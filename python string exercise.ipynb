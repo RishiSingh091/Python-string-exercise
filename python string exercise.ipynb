{
 "cells": [
  {
   "cell_type": "code",
   "execution_count": 4,
   "id": "8db45fb6-004b-4334-9f91-36c1fdbc0a77",
   "metadata": {},
   "outputs": [
    {
     "name": "stdout",
     "output_type": "stream",
     "text": [
      "Hello python\n"
     ]
    }
   ],
   "source": [
    "# 1 How do you concatenate two strings in Python?\n",
    "\n",
    "string1 = \"Hello\"\n",
    "string2 = \" python\"\n",
    "\n",
    "output = string1 + string2\n",
    "print(output) "
   ]
  },
  {
   "cell_type": "code",
   "execution_count": 9,
   "id": "dbe98a90-4528-49e1-949e-9c5b30bd8d53",
   "metadata": {},
   "outputs": [],
   "source": [
    "# 2 What is the difference between the + operator and the join() method for concatenating strings?\n",
    "\n",
    "# # Ans I will use the + operator when I have a few strings. The use of the join method is when I have a large number of strings\n"
   ]
  },
  {
   "cell_type": "code",
   "execution_count": 2,
   "id": "2c713a3b-3c00-4507-b536-060660a8a9e5",
   "metadata": {},
   "outputs": [],
   "source": [
    "#Q3 How do you access individual characters in a string?\n",
    "\n",
    "#Ans By using the indexing."
   ]
  },
  {
   "cell_type": "code",
   "execution_count": 11,
   "id": "36790287-496d-41c7-a056-933758c8b39e",
   "metadata": {},
   "outputs": [
    {
     "name": "stdout",
     "output_type": "stream",
     "text": [
      "20\n"
     ]
    }
   ],
   "source": [
    "# 4 What method is used to find the length of a string in Python?\n",
    "\n",
    "str = \"I am learning python\"\n",
    "length = len(str)\n",
    "print(length)"
   ]
  },
  {
   "cell_type": "code",
   "execution_count": 12,
   "id": "084e661f-96aa-4c0a-a024-baf962a0044e",
   "metadata": {},
   "outputs": [
    {
     "data": {
      "text/plain": [
       "'PYTHON'"
      ]
     },
     "execution_count": 12,
     "metadata": {},
     "output_type": "execute_result"
    }
   ],
   "source": [
    "# 5 How can you convert a string to uppercase in Python?\n",
    "\n",
    "str = \"python\"\n",
    "str.upper()"
   ]
  },
  {
   "cell_type": "code",
   "execution_count": 14,
   "id": "649d7ef0-9d7d-4f25-b147-bc921ce79e6a",
   "metadata": {},
   "outputs": [
    {
     "data": {
      "text/plain": [
       "'hello world'"
      ]
     },
     "execution_count": 14,
     "metadata": {},
     "output_type": "execute_result"
    }
   ],
   "source": [
    "# 6 How can you convert a string to lowercase in Python?\n",
    "\n",
    "str = \"HELLO WORLD\"\n",
    "str.lower()"
   ]
  },
  {
   "cell_type": "code",
   "execution_count": 15,
   "id": "12b105e2-b2a0-40c0-949c-7544d3cfd820",
   "metadata": {},
   "outputs": [
    {
     "data": {
      "text/plain": [
       "'I am learning java'"
      ]
     },
     "execution_count": 15,
     "metadata": {},
     "output_type": "execute_result"
    }
   ],
   "source": [
    "# 7 What method is used to replace substrings within a string?\n",
    "\n",
    "str = \"I am learning python\"\n",
    "str.replace(\"python\", \"java\")"
   ]
  },
  {
   "cell_type": "code",
   "execution_count": 18,
   "id": "03455433-eeb3-4309-95bb-a23fa92f9c4f",
   "metadata": {},
   "outputs": [
    {
     "data": {
      "text/plain": [
       "['Hello', 'world']"
      ]
     },
     "execution_count": 18,
     "metadata": {},
     "output_type": "execute_result"
    }
   ],
   "source": [
    "# 8 How can you split a string into a list of substrings based on a delimiter?\n",
    "\n",
    "str = \"Hello world\"\n",
    "str.split()"
   ]
  },
  {
   "cell_type": "code",
   "execution_count": 21,
   "id": "c9630afb-98a9-45e6-85e2-0cf2a8451b17",
   "metadata": {},
   "outputs": [
    {
     "data": {
      "text/plain": [
       "False"
      ]
     },
     "execution_count": 21,
     "metadata": {},
     "output_type": "execute_result"
    }
   ],
   "source": [
    "# 9 How do you check if a string starts with a particular substring?\n",
    "\n",
    "str = 'hello world'\n",
    "str.startswith('hello')\n"
   ]
  },
  {
   "cell_type": "code",
   "execution_count": 23,
   "id": "a5e5858c-172e-4c15-912a-8ac8ebef1ec1",
   "metadata": {},
   "outputs": [
    {
     "data": {
      "text/plain": [
       "True"
      ]
     },
     "execution_count": 23,
     "metadata": {},
     "output_type": "execute_result"
    }
   ],
   "source": [
    "# 10 How do you check if a string ends with a particular substring?\n",
    "\n",
    "str = 'Hello python'\n",
    "str.endswith('python')"
   ]
  },
  {
   "cell_type": "code",
   "execution_count": 31,
   "id": "ab75ffde-adbc-42b2-824a-9c203393834d",
   "metadata": {},
   "outputs": [
    {
     "data": {
      "text/plain": [
       "'hello world'"
      ]
     },
     "execution_count": 31,
     "metadata": {},
     "output_type": "execute_result"
    }
   ],
   "source": [
    "# 11 How can you remove leading and trailing whitespace from a string?\n",
    "\n",
    "str = '  hello world  '\n",
    "str.strip()"
   ]
  },
  {
   "cell_type": "code",
   "execution_count": 39,
   "id": "9e241a5b-c1b0-443f-9ef8-91d334c59712",
   "metadata": {},
   "outputs": [
    {
     "data": {
      "text/plain": [
       "2"
      ]
     },
     "execution_count": 39,
     "metadata": {},
     "output_type": "execute_result"
    }
   ],
   "source": [
    "# 12 What method is used to find the index of the first occurrence of a substring within a string?\n",
    "\n",
    "str = 'I am learning python' \n",
    "str.find('am')"
   ]
  },
  {
   "cell_type": "code",
   "execution_count": 42,
   "id": "8c433fd3-cfc8-4d4e-89ff-a40486cf03c6",
   "metadata": {},
   "outputs": [
    {
     "data": {
      "text/plain": [
       "2"
      ]
     },
     "execution_count": 42,
     "metadata": {},
     "output_type": "execute_result"
    }
   ],
   "source": [
    "# 13 How can you count the number of occurrences of a substring within a string?\n",
    "\n",
    "str = \"hello world hello python\"\n",
    "str.count('hello')"
   ]
  },
  {
   "cell_type": "code",
   "execution_count": 45,
   "id": "d379780a-eb05-4bc2-b764-1e1194fd9d7b",
   "metadata": {},
   "outputs": [
    {
     "data": {
      "text/plain": [
       "True"
      ]
     },
     "execution_count": 45,
     "metadata": {},
     "output_type": "execute_result"
    }
   ],
   "source": [
    "# 14 How do you check if a string contains only alphabetic characters?\n",
    "\n",
    "str = \"Helloworld\"\n",
    "str.isalpha()"
   ]
  },
  {
   "cell_type": "code",
   "execution_count": 51,
   "id": "e3e3f4a8-99b6-4041-8a6a-ca98aa928ec2",
   "metadata": {},
   "outputs": [
    {
     "data": {
      "text/plain": [
       "True"
      ]
     },
     "execution_count": 51,
     "metadata": {},
     "output_type": "execute_result"
    }
   ],
   "source": [
    "# 15 How do you check if a string contains only numeric characters?\n",
    "\n",
    "int = '345355'\n",
    "int.isnumeric()"
   ]
  }
 ],
 "metadata": {
  "kernelspec": {
   "display_name": "Python 3 (ipykernel)",
   "language": "python",
   "name": "python3"
  },
  "language_info": {
   "codemirror_mode": {
    "name": "ipython",
    "version": 3
   },
   "file_extension": ".py",
   "mimetype": "text/x-python",
   "name": "python",
   "nbconvert_exporter": "python",
   "pygments_lexer": "ipython3",
   "version": "3.10.2"
  }
 },
 "nbformat": 4,
 "nbformat_minor": 5
}
